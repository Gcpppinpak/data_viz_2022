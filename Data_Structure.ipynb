{
  "nbformat": 4,
  "nbformat_minor": 0,
  "metadata": {
    "colab": {
      "name": "Data Structure.ipynb",
      "provenance": [],
      "toc_visible": true,
      "authorship_tag": "ABX9TyM6hIcETRcjnIVHYWwF3W6p",
      "include_colab_link": true
    },
    "kernelspec": {
      "name": "python3",
      "display_name": "Python 3"
    },
    "language_info": {
      "name": "python"
    }
  },
  "cells": [
    {
      "cell_type": "markdown",
      "metadata": {
        "id": "view-in-github",
        "colab_type": "text"
      },
      "source": [
        "<a href=\"https://colab.research.google.com/github/Gcpppinpak/data_viz_2022/blob/main/Data_Structure.ipynb\" target=\"_parent\"><img src=\"https://colab.research.google.com/assets/colab-badge.svg\" alt=\"Open In Colab\"/></a>"
      ]
    },
    {
      "cell_type": "markdown",
      "source": [
        "# Data Structure (โครงสร้างข้อมูล)\n",
        "การเก็บข้อมูลหลายๆตัวไว้ด้วยกันอย่างเป็นระเบียบ"
      ],
      "metadata": {
        "id": "LqmBb8yl5E0C"
      }
    },
    {
      "cell_type": "markdown",
      "source": [
        "##`list()`\n",
        "- เก็บอะไรก็ได้\n",
        "- ลำดับในการเก็บ มีความสำคัญ"
      ],
      "metadata": {
        "id": "qzY-KvAF6csb"
      }
    },
    {
      "cell_type": "code",
      "execution_count": 113,
      "metadata": {
        "id": "9zl3GGX04szz"
      },
      "outputs": [],
      "source": [
        "list_a = [1,2,3,4,5,6] #[ ] sqaure brankets"
      ]
    },
    {
      "cell_type": "code",
      "source": [
        "list_a"
      ],
      "metadata": {
        "colab": {
          "base_uri": "https://localhost:8080/"
        },
        "id": "ZJdnizXq6zhn",
        "outputId": "07048888-09cf-4956-c6d1-94a44b62f29c"
      },
      "execution_count": 114,
      "outputs": [
        {
          "output_type": "execute_result",
          "data": {
            "text/plain": [
              "[1, 2, 3, 4, 5, 6]"
            ]
          },
          "metadata": {},
          "execution_count": 114
        }
      ]
    },
    {
      "cell_type": "code",
      "source": [
        "list_b = ['ab',2,3.14,list_a]"
      ],
      "metadata": {
        "id": "YThIWUFf6106"
      },
      "execution_count": 115,
      "outputs": []
    },
    {
      "cell_type": "code",
      "source": [
        "list_b"
      ],
      "metadata": {
        "colab": {
          "base_uri": "https://localhost:8080/"
        },
        "id": "4c8l7Cpo7OcX",
        "outputId": "b0dbcdea-024c-48de-d40f-1387ea69a309"
      },
      "execution_count": 116,
      "outputs": [
        {
          "output_type": "execute_result",
          "data": {
            "text/plain": [
              "['ab', 2, 3.14, [1, 2, 3, 4, 5, 6]]"
            ]
          },
          "metadata": {},
          "execution_count": 116
        }
      ]
    },
    {
      "cell_type": "markdown",
      "source": [
        "### indexing การชี้สมาชิกใน list ด้วยลำดับของ list"
      ],
      "metadata": {
        "id": "z6ksrmBh8RNg"
      }
    },
    {
      "cell_type": "code",
      "source": [
        "list_a[3]"
      ],
      "metadata": {
        "colab": {
          "base_uri": "https://localhost:8080/"
        },
        "id": "XcJ4VVlp7QIz",
        "outputId": "435c7ba5-1b26-4a2e-887d-caae2d01befd"
      },
      "execution_count": 117,
      "outputs": [
        {
          "output_type": "execute_result",
          "data": {
            "text/plain": [
              "4"
            ]
          },
          "metadata": {},
          "execution_count": 117
        }
      ]
    },
    {
      "cell_type": "code",
      "source": [
        "list_b[3]"
      ],
      "metadata": {
        "colab": {
          "base_uri": "https://localhost:8080/"
        },
        "id": "z1Pggeqg7rrM",
        "outputId": "0f44d65d-d8ff-4914-bb19-a3db9933a9da"
      },
      "execution_count": 118,
      "outputs": [
        {
          "output_type": "execute_result",
          "data": {
            "text/plain": [
              "[1, 2, 3, 4, 5, 6]"
            ]
          },
          "metadata": {},
          "execution_count": 118
        }
      ]
    },
    {
      "cell_type": "code",
      "source": [
        "list_b[3][4]"
      ],
      "metadata": {
        "colab": {
          "base_uri": "https://localhost:8080/"
        },
        "id": "NeaLqi8o7uxk",
        "outputId": "5092e38d-7a6b-4081-b1d8-e0d72e4eef9e"
      },
      "execution_count": 119,
      "outputs": [
        {
          "output_type": "execute_result",
          "data": {
            "text/plain": [
              "5"
            ]
          },
          "metadata": {},
          "execution_count": 119
        }
      ]
    },
    {
      "cell_type": "code",
      "source": [
        "list_a[6]"
      ],
      "metadata": {
        "colab": {
          "base_uri": "https://localhost:8080/",
          "height": 166
        },
        "id": "lGei2kmo8Fqj",
        "outputId": "292e0934-a4b8-471c-c8dd-efcde6b9b97a"
      },
      "execution_count": 120,
      "outputs": [
        {
          "output_type": "error",
          "ename": "IndexError",
          "evalue": "ignored",
          "traceback": [
            "\u001b[0;31m---------------------------------------------------------------------------\u001b[0m",
            "\u001b[0;31mIndexError\u001b[0m                                Traceback (most recent call last)",
            "\u001b[0;32m<ipython-input-120-d6b61775e813>\u001b[0m in \u001b[0;36m<module>\u001b[0;34m()\u001b[0m\n\u001b[0;32m----> 1\u001b[0;31m \u001b[0mlist_a\u001b[0m\u001b[0;34m[\u001b[0m\u001b[0;36m6\u001b[0m\u001b[0;34m]\u001b[0m\u001b[0;34m\u001b[0m\u001b[0;34m\u001b[0m\u001b[0m\n\u001b[0m",
            "\u001b[0;31mIndexError\u001b[0m: list index out of range"
          ]
        }
      ]
    },
    {
      "cell_type": "code",
      "source": [
        "list_a[-1] #index -1 คือตัวสุดท้ายของ list"
      ],
      "metadata": {
        "colab": {
          "base_uri": "https://localhost:8080/"
        },
        "id": "i_cfIkGC8qMb",
        "outputId": "891f4f2b-274b-4a42-8d17-b6ca476c5c15"
      },
      "execution_count": 121,
      "outputs": [
        {
          "output_type": "execute_result",
          "data": {
            "text/plain": [
              "6"
            ]
          },
          "metadata": {},
          "execution_count": 121
        }
      ]
    },
    {
      "cell_type": "code",
      "source": [
        "list_a[-4]"
      ],
      "metadata": {
        "colab": {
          "base_uri": "https://localhost:8080/"
        },
        "id": "eM6rXPvR9F4i",
        "outputId": "ce4f6597-e3d1-4bb9-ee8c-92b03df44277"
      },
      "execution_count": 122,
      "outputs": [
        {
          "output_type": "execute_result",
          "data": {
            "text/plain": [
              "3"
            ]
          },
          "metadata": {},
          "execution_count": 122
        }
      ]
    },
    {
      "cell_type": "markdown",
      "source": [
        "### การสร้าง `list()`"
      ],
      "metadata": {
        "id": "uQfalFWA9mIg"
      }
    },
    {
      "cell_type": "code",
      "source": [
        "list_x1 = [] #แบบที่ 1\n",
        "list_x2 = list() #แบบที่ 2"
      ],
      "metadata": {
        "id": "-kiDrfqy9LgN"
      },
      "execution_count": 123,
      "outputs": []
    },
    {
      "cell_type": "code",
      "source": [
        "print(list_x1) \n",
        "print(list_x2)"
      ],
      "metadata": {
        "colab": {
          "base_uri": "https://localhost:8080/"
        },
        "id": "5yiY4Wa197kG",
        "outputId": "7d0b7954-8881-4aeb-a7a8-3053573cf10e"
      },
      "execution_count": 124,
      "outputs": [
        {
          "output_type": "stream",
          "name": "stdout",
          "text": [
            "[]\n",
            "[]\n"
          ]
        }
      ]
    },
    {
      "cell_type": "markdown",
      "source": [
        "### การเพิ่มเข้าไปใน list ด้วย `append()`"
      ],
      "metadata": {
        "id": "Z5qPsAXz-WZv"
      }
    },
    {
      "cell_type": "code",
      "source": [
        "list_x1.append(2)"
      ],
      "metadata": {
        "id": "dAMCqr1s9-IA"
      },
      "execution_count": 125,
      "outputs": []
    },
    {
      "cell_type": "code",
      "source": [
        "list_x1"
      ],
      "metadata": {
        "colab": {
          "base_uri": "https://localhost:8080/"
        },
        "id": "4KsziLnV-k76",
        "outputId": "54cbdf59-8b36-41fd-e24d-486c7e603bd2"
      },
      "execution_count": 126,
      "outputs": [
        {
          "output_type": "execute_result",
          "data": {
            "text/plain": [
              "[2]"
            ]
          },
          "metadata": {},
          "execution_count": 126
        }
      ]
    },
    {
      "cell_type": "code",
      "source": [
        "list_x1.append(4)\n",
        "print(list_x1)"
      ],
      "metadata": {
        "colab": {
          "base_uri": "https://localhost:8080/"
        },
        "id": "nbSJnDYK-qaC",
        "outputId": "af63aea9-acc2-4fdb-ec7a-bd113d09461b"
      },
      "execution_count": 127,
      "outputs": [
        {
          "output_type": "stream",
          "name": "stdout",
          "text": [
            "[2, 4]\n"
          ]
        }
      ]
    },
    {
      "cell_type": "code",
      "source": [
        "list_x1[0]"
      ],
      "metadata": {
        "colab": {
          "base_uri": "https://localhost:8080/"
        },
        "id": "7jOn3JaA_Hkl",
        "outputId": "f9c923fa-797d-45d9-e8b1-36aad8e9185e"
      },
      "execution_count": 128,
      "outputs": [
        {
          "output_type": "execute_result",
          "data": {
            "text/plain": [
              "2"
            ]
          },
          "metadata": {},
          "execution_count": 128
        }
      ]
    },
    {
      "cell_type": "code",
      "source": [
        "list_x1[-1]"
      ],
      "metadata": {
        "colab": {
          "base_uri": "https://localhost:8080/"
        },
        "id": "OXEPrDOh_EhG",
        "outputId": "6c95f9c7-e3cd-40ce-e2f2-d4ce7aa664fd"
      },
      "execution_count": 129,
      "outputs": [
        {
          "output_type": "execute_result",
          "data": {
            "text/plain": [
              "4"
            ]
          },
          "metadata": {},
          "execution_count": 129
        }
      ]
    },
    {
      "cell_type": "code",
      "source": [
        "list_x2"
      ],
      "metadata": {
        "colab": {
          "base_uri": "https://localhost:8080/"
        },
        "id": "mvtdVeSY_tmn",
        "outputId": "27fc13b5-17fa-4433-9b2e-57a4e2b431b0"
      },
      "execution_count": 130,
      "outputs": [
        {
          "output_type": "execute_result",
          "data": {
            "text/plain": [
              "[]"
            ]
          },
          "metadata": {},
          "execution_count": 130
        }
      ]
    },
    {
      "cell_type": "code",
      "source": [
        "list_x2.append('ha')"
      ],
      "metadata": {
        "id": "N-udK2Dk_veK"
      },
      "execution_count": 131,
      "outputs": []
    },
    {
      "cell_type": "code",
      "source": [
        "list_x2"
      ],
      "metadata": {
        "colab": {
          "base_uri": "https://localhost:8080/"
        },
        "id": "OiYhpD3J_0nO",
        "outputId": "03dacbb7-b173-47be-83d7-a81c9989051a"
      },
      "execution_count": 132,
      "outputs": [
        {
          "output_type": "execute_result",
          "data": {
            "text/plain": [
              "['ha']"
            ]
          },
          "metadata": {},
          "execution_count": 132
        }
      ]
    },
    {
      "cell_type": "markdown",
      "source": [
        "### ลบสมาชิกจาก list"
      ],
      "metadata": {
        "id": "nOKmKZ8UAY1y"
      }
    },
    {
      "cell_type": "code",
      "source": [
        "list_x1.append('ha')"
      ],
      "metadata": {
        "id": "wTztpogTAeru"
      },
      "execution_count": 133,
      "outputs": []
    },
    {
      "cell_type": "code",
      "source": [
        "list_x1"
      ],
      "metadata": {
        "colab": {
          "base_uri": "https://localhost:8080/"
        },
        "id": "d3UGJSzaApHs",
        "outputId": "9b3f8eb5-b6fe-4508-ce6e-8efd98677e43"
      },
      "execution_count": 134,
      "outputs": [
        {
          "output_type": "execute_result",
          "data": {
            "text/plain": [
              "[2, 4, 'ha']"
            ]
          },
          "metadata": {},
          "execution_count": 134
        }
      ]
    },
    {
      "cell_type": "code",
      "source": [
        "list_x1.pop()"
      ],
      "metadata": {
        "colab": {
          "base_uri": "https://localhost:8080/",
          "height": 0
        },
        "id": "VEvZugdQAqq5",
        "outputId": "41779bee-163c-42d8-d940-01a626ea2a0d"
      },
      "execution_count": 135,
      "outputs": [
        {
          "output_type": "execute_result",
          "data": {
            "application/vnd.google.colaboratory.intrinsic+json": {
              "type": "string"
            },
            "text/plain": [
              "'ha'"
            ]
          },
          "metadata": {},
          "execution_count": 135
        }
      ]
    },
    {
      "cell_type": "code",
      "source": [
        "list_x1"
      ],
      "metadata": {
        "colab": {
          "base_uri": "https://localhost:8080/"
        },
        "id": "Ugr01nxKA42B",
        "outputId": "d6831a30-e631-4964-9abc-147479b80955"
      },
      "execution_count": 136,
      "outputs": [
        {
          "output_type": "execute_result",
          "data": {
            "text/plain": [
              "[2, 4]"
            ]
          },
          "metadata": {},
          "execution_count": 136
        }
      ]
    },
    {
      "cell_type": "code",
      "source": [
        "list_x1.pop()\n",
        "print(list_x1)"
      ],
      "metadata": {
        "colab": {
          "base_uri": "https://localhost:8080/"
        },
        "id": "c5Fgq1KFA8gJ",
        "outputId": "f0e0047a-f257-43d6-99c4-35283ed326c6"
      },
      "execution_count": 137,
      "outputs": [
        {
          "output_type": "stream",
          "name": "stdout",
          "text": [
            "[2]\n"
          ]
        }
      ]
    },
    {
      "cell_type": "markdown",
      "source": [
        "### `len()` ตรวจสอบจำนวนสมาชิกของ list"
      ],
      "metadata": {
        "id": "Or4FhezNB6yV"
      }
    },
    {
      "cell_type": "code",
      "source": [
        "print(list_b)\n",
        "print(len(list_b))"
      ],
      "metadata": {
        "colab": {
          "base_uri": "https://localhost:8080/"
        },
        "id": "dTN8Yy7HBFKr",
        "outputId": "9a3a4339-c2f3-49c7-a28c-56e89bd5b126"
      },
      "execution_count": 138,
      "outputs": [
        {
          "output_type": "stream",
          "name": "stdout",
          "text": [
            "['ab', 2, 3.14, [1, 2, 3, 4, 5, 6]]\n",
            "4\n"
          ]
        }
      ]
    },
    {
      "cell_type": "code",
      "source": [
        "len(list_a)"
      ],
      "metadata": {
        "colab": {
          "base_uri": "https://localhost:8080/"
        },
        "id": "mzQBxW3BCtwv",
        "outputId": "29179705-2021-4116-c197-1920622710d7"
      },
      "execution_count": 139,
      "outputs": [
        {
          "output_type": "execute_result",
          "data": {
            "text/plain": [
              "6"
            ]
          },
          "metadata": {},
          "execution_count": 139
        }
      ]
    },
    {
      "cell_type": "markdown",
      "source": [
        "### String is a list of characters"
      ],
      "metadata": {
        "id": "HaWHuTNzC4RY"
      }
    },
    {
      "cell_type": "code",
      "source": [
        "st_stat = 'Department of Statistics, Facalty of Science'"
      ],
      "metadata": {
        "id": "B8SNepxjC2DT"
      },
      "execution_count": 140,
      "outputs": []
    },
    {
      "cell_type": "code",
      "source": [
        "st_stat[10]"
      ],
      "metadata": {
        "colab": {
          "base_uri": "https://localhost:8080/",
          "height": 0
        },
        "id": "C3GT6DagDGPd",
        "outputId": "fe835920-4a13-4d4c-c9aa-227430fbb1e9"
      },
      "execution_count": 141,
      "outputs": [
        {
          "output_type": "execute_result",
          "data": {
            "application/vnd.google.colaboratory.intrinsic+json": {
              "type": "string"
            },
            "text/plain": [
              "' '"
            ]
          },
          "metadata": {},
          "execution_count": 141
        }
      ]
    },
    {
      "cell_type": "code",
      "source": [
        "len(st_stat)"
      ],
      "metadata": {
        "colab": {
          "base_uri": "https://localhost:8080/"
        },
        "id": "kDIv774_DKvs",
        "outputId": "92884b14-f416-482f-a282-5ea52a44062d"
      },
      "execution_count": 142,
      "outputs": [
        {
          "output_type": "execute_result",
          "data": {
            "text/plain": [
              "44"
            ]
          },
          "metadata": {},
          "execution_count": 142
        }
      ]
    },
    {
      "cell_type": "markdown",
      "source": [
        "### List Slicing `:`\n"
      ],
      "metadata": {
        "id": "kEOmawX0DtPr"
      }
    },
    {
      "cell_type": "markdown",
      "source": [
        "```list[จุดเริ่มต้น (ทึบ):จุดสุดท้าย (โปร่ง)]```\n",
        "\n",
        "```list[จุดเริ่มต้น (ทึบ):จุดสุดท้าย (โปร่ง):step]```"
      ],
      "metadata": {
        "id": "J3mXzxeREcDB"
      }
    },
    {
      "cell_type": "code",
      "source": [
        "list_a"
      ],
      "metadata": {
        "colab": {
          "base_uri": "https://localhost:8080/"
        },
        "id": "-YaqHUOJDk_h",
        "outputId": "21ebd56c-0f2b-493f-ab1d-31f5db053032"
      },
      "execution_count": 143,
      "outputs": [
        {
          "output_type": "execute_result",
          "data": {
            "text/plain": [
              "[1, 2, 3, 4, 5, 6]"
            ]
          },
          "metadata": {},
          "execution_count": 143
        }
      ]
    },
    {
      "cell_type": "code",
      "source": [
        "list_a[2]"
      ],
      "metadata": {
        "colab": {
          "base_uri": "https://localhost:8080/"
        },
        "id": "CuJFGrm_D3Id",
        "outputId": "427d5b14-3f85-4788-eeaa-7c3fc35f01bc"
      },
      "execution_count": 144,
      "outputs": [
        {
          "output_type": "execute_result",
          "data": {
            "text/plain": [
              "3"
            ]
          },
          "metadata": {},
          "execution_count": 144
        }
      ]
    },
    {
      "cell_type": "markdown",
      "source": [
        "###: colon"
      ],
      "metadata": {
        "id": "auTN0JG0JHDV"
      }
    },
    {
      "cell_type": "code",
      "source": [
        "list_a[-3:] # : colon"
      ],
      "metadata": {
        "colab": {
          "base_uri": "https://localhost:8080/"
        },
        "id": "nkQgvxUsD5cA",
        "outputId": "2aa400c6-148a-4228-b5e2-a65e24c59b54"
      },
      "execution_count": 145,
      "outputs": [
        {
          "output_type": "execute_result",
          "data": {
            "text/plain": [
              "[4, 5, 6]"
            ]
          },
          "metadata": {},
          "execution_count": 145
        }
      ]
    },
    {
      "cell_type": "code",
      "source": [
        "list_a[:4]"
      ],
      "metadata": {
        "colab": {
          "base_uri": "https://localhost:8080/"
        },
        "id": "m6Afx2yxHBsf",
        "outputId": "0f029f40-0da1-42e9-a6ce-db5df9cf78c5"
      },
      "execution_count": 146,
      "outputs": [
        {
          "output_type": "execute_result",
          "data": {
            "text/plain": [
              "[1, 2, 3, 4]"
            ]
          },
          "metadata": {},
          "execution_count": 146
        }
      ]
    },
    {
      "cell_type": "code",
      "source": [
        "list_a[1:4]"
      ],
      "metadata": {
        "colab": {
          "base_uri": "https://localhost:8080/"
        },
        "id": "IIuZD-55Es0s",
        "outputId": "14b9d906-dab6-45d0-8f4c-3d28e69468e2"
      },
      "execution_count": 147,
      "outputs": [
        {
          "output_type": "execute_result",
          "data": {
            "text/plain": [
              "[2, 3, 4]"
            ]
          },
          "metadata": {},
          "execution_count": 147
        }
      ]
    },
    {
      "cell_type": "code",
      "source": [
        "list_a[:]"
      ],
      "metadata": {
        "colab": {
          "base_uri": "https://localhost:8080/"
        },
        "id": "b8MulNaGGOZR",
        "outputId": "c506efdf-2ee4-4cfd-fa71-66b2617ee412"
      },
      "execution_count": 148,
      "outputs": [
        {
          "output_type": "execute_result",
          "data": {
            "text/plain": [
              "[1, 2, 3, 4, 5, 6]"
            ]
          },
          "metadata": {},
          "execution_count": 148
        }
      ]
    },
    {
      "cell_type": "markdown",
      "source": [
        "### step"
      ],
      "metadata": {
        "id": "FZGng-dcHJFj"
      }
    },
    {
      "cell_type": "code",
      "source": [
        "list_c = [1,2,3,4,5,6,7,8,9,10,11,12,13]"
      ],
      "metadata": {
        "id": "WakKNypiHHn9"
      },
      "execution_count": 149,
      "outputs": []
    },
    {
      "cell_type": "code",
      "source": [
        "list_c[:10:]"
      ],
      "metadata": {
        "colab": {
          "base_uri": "https://localhost:8080/"
        },
        "id": "QvwJoIHLHPbf",
        "outputId": "c6e38b69-519b-4471-caad-0d59b8bdb008"
      },
      "execution_count": 150,
      "outputs": [
        {
          "output_type": "execute_result",
          "data": {
            "text/plain": [
              "[1, 2, 3, 4, 5, 6, 7, 8, 9, 10]"
            ]
          },
          "metadata": {},
          "execution_count": 150
        }
      ]
    },
    {
      "cell_type": "code",
      "source": [
        "list_c[:10:2]"
      ],
      "metadata": {
        "colab": {
          "base_uri": "https://localhost:8080/"
        },
        "id": "oJOMHaD3HS1V",
        "outputId": "9ac10deb-35da-4543-e30b-434899efdc90"
      },
      "execution_count": 151,
      "outputs": [
        {
          "output_type": "execute_result",
          "data": {
            "text/plain": [
              "[1, 3, 5, 7, 9]"
            ]
          },
          "metadata": {},
          "execution_count": 151
        }
      ]
    },
    {
      "cell_type": "code",
      "source": [
        "list_c[::-1]"
      ],
      "metadata": {
        "colab": {
          "base_uri": "https://localhost:8080/"
        },
        "id": "wI2si8QHHfzU",
        "outputId": "6095974a-d73f-4138-e5b3-043e64793892"
      },
      "execution_count": 152,
      "outputs": [
        {
          "output_type": "execute_result",
          "data": {
            "text/plain": [
              "[13, 12, 11, 10, 9, 8, 7, 6, 5, 4, 3, 2, 1]"
            ]
          },
          "metadata": {},
          "execution_count": 152
        }
      ]
    },
    {
      "cell_type": "markdown",
      "source": [
        "### `range()`"
      ],
      "metadata": {
        "id": "yDsagP7AH6He"
      }
    },
    {
      "cell_type": "code",
      "source": [
        "range(21)"
      ],
      "metadata": {
        "colab": {
          "base_uri": "https://localhost:8080/"
        },
        "id": "lNXRqjV_IYrW",
        "outputId": "a3383bde-6d72-4734-98f0-857814315439"
      },
      "execution_count": 153,
      "outputs": [
        {
          "output_type": "execute_result",
          "data": {
            "text/plain": [
              "range(0, 21)"
            ]
          },
          "metadata": {},
          "execution_count": 153
        }
      ]
    },
    {
      "cell_type": "code",
      "source": [
        "a = list(range(21))"
      ],
      "metadata": {
        "id": "6Mjc4k2jH48_"
      },
      "execution_count": 154,
      "outputs": []
    },
    {
      "cell_type": "code",
      "source": [
        "a"
      ],
      "metadata": {
        "colab": {
          "base_uri": "https://localhost:8080/"
        },
        "id": "z7z_fs8vHlTx",
        "outputId": "fd27d09f-87ba-4d39-9e89-1dae775df9dd"
      },
      "execution_count": 155,
      "outputs": [
        {
          "output_type": "execute_result",
          "data": {
            "text/plain": [
              "[0, 1, 2, 3, 4, 5, 6, 7, 8, 9, 10, 11, 12, 13, 14, 15, 16, 17, 18, 19, 20]"
            ]
          },
          "metadata": {},
          "execution_count": 155
        }
      ]
    },
    {
      "cell_type": "code",
      "source": [
        "list(range(1,21))"
      ],
      "metadata": {
        "colab": {
          "base_uri": "https://localhost:8080/"
        },
        "id": "PNc6v-PbIK8y",
        "outputId": "7090db7c-8922-4636-d01e-4ebb80da9f80"
      },
      "execution_count": 156,
      "outputs": [
        {
          "output_type": "execute_result",
          "data": {
            "text/plain": [
              "[1, 2, 3, 4, 5, 6, 7, 8, 9, 10, 11, 12, 13, 14, 15, 16, 17, 18, 19, 20]"
            ]
          },
          "metadata": {},
          "execution_count": 156
        }
      ]
    },
    {
      "cell_type": "markdown",
      "source": [
        "## HW2 คำนวณเวลาเป็นวินาทีของเวลาต่อไปนี้ โดยใช้คำสั่ง split() ช่วย (print ออกมาให้สวยงาม)\n",
        "- 12:30:15\n",
        "- 13:41:07\n",
        "- 09:11:50\n",
        "- 21:30:15\n",
        "- 03:10:15"
      ],
      "metadata": {
        "id": "texTmDVvJM6M"
      }
    },
    {
      "cell_type": "code",
      "source": [
        "#01:02:03\n",
        "\n",
        "a = 1*60*60 + (2*60) + 3\n",
        "print(f'01:02:03 แปลงเป็นวินาที ได้ {a} วินาที')"
      ],
      "metadata": {
        "colab": {
          "base_uri": "https://localhost:8080/"
        },
        "id": "tIAYo7L3JtoO",
        "outputId": "dd64cb15-d7ae-4b3f-8d8d-aca68c7d47a6"
      },
      "execution_count": 157,
      "outputs": [
        {
          "output_type": "stream",
          "name": "stdout",
          "text": [
            "01:02:03 แปลงเป็นวินาที ได้ 3723 วินาที\n"
          ]
        }
      ]
    },
    {
      "cell_type": "code",
      "source": [
        "#12:30:15\n",
        "choice1 = '12:30:15'\n",
        "print(choice1)\n",
        "print(choice1.split(':'))\n",
        "a1 = choice1.split(':')[0]\n",
        "b1 = choice1.split(':')[1]\n",
        "c1 = choice1.split(':')[2]\n",
        "time1 = int(a1)*60*60 + (int(b1)*60) + int(c1)\n",
        "ans1 = 'แปลงเป็นวินาทีได้ ' + str(time1) + ' วินาที'\n",
        "print(ans1)"
      ],
      "metadata": {
        "id": "56D0rX9_J5TN",
        "outputId": "16850ab2-1652-4103-8553-72a28cb191b9",
        "colab": {
          "base_uri": "https://localhost:8080/"
        }
      },
      "execution_count": 158,
      "outputs": [
        {
          "output_type": "stream",
          "name": "stdout",
          "text": [
            "12:30:15\n",
            "['12', '30', '15']\n",
            "แปลงเป็นวินาทีได้ 45015 วินาที\n"
          ]
        }
      ]
    },
    {
      "cell_type": "code",
      "source": [
        "#13:41:07\n",
        "choice2 = '13:41:07'\n",
        "print(choice2.split(':'))\n",
        "a2 = choice2.split(':')[0]\n",
        "b2 = choice2.split(':')[1]\n",
        "c2 = choice2.split(':')[2]\n",
        "time2 = int(a2)*60*60 + (int(b2)*60) + int(c2)\n",
        "ans2 = 'แปลงเป็นวินาทีได้ ' + str(time2) + ' วินาที'\n",
        "print(ans2)"
      ],
      "metadata": {
        "id": "GoTmTYB_dpSq",
        "outputId": "6496dfcc-02dc-4ce0-fd36-ba74f98b771c",
        "colab": {
          "base_uri": "https://localhost:8080/"
        }
      },
      "execution_count": 159,
      "outputs": [
        {
          "output_type": "stream",
          "name": "stdout",
          "text": [
            "['13', '41', '07']\n",
            "แปลงเป็นวินาทีได้ 49267 วินาที\n"
          ]
        }
      ]
    },
    {
      "cell_type": "code",
      "source": [
        "#09:11:50\n",
        "choice3 = '09:11:50'\n",
        "print(choice3)\n",
        "print(choice3.split(':'))\n",
        "a3 = choice3.split(':')[0]\n",
        "b3 = choice3.split(':')[1]\n",
        "c3 = choice3.split(':')[2]\n",
        "time3 = int(a3)*60*60 + (int(b3)*60) + int(c3)\n",
        "ans3 = 'แปลงเป็นวินาทีได้ ' + str(time3) + ' วินาที'\n",
        "print(ans3)"
      ],
      "metadata": {
        "id": "XGqS48rX3sGY",
        "outputId": "caafd994-59f4-4843-8348-fad087f56394",
        "colab": {
          "base_uri": "https://localhost:8080/"
        }
      },
      "execution_count": 160,
      "outputs": [
        {
          "output_type": "stream",
          "name": "stdout",
          "text": [
            "09:11:50\n",
            "['09', '11', '50']\n",
            "แปลงเป็นวินาทีได้ 33110 วินาที\n"
          ]
        }
      ]
    },
    {
      "cell_type": "code",
      "source": [
        "#21:30:15\n",
        "choice4 = '21:30:15'\n",
        "print(choice4)\n",
        "print(choice4.split(':'))\n",
        "a4 = choice4.split(':')[0]\n",
        "b4 = choice4.split(':')[1]\n",
        "c4 = choice4.split(':')[2]\n",
        "time4 = int(a4)*60*60 + (int(b4)*60) + int(c4)\n",
        "ans4 = 'แปลงเป็นวินาทีได้ ' + str(time4) + ' วินาที'\n",
        "print(ans4)"
      ],
      "metadata": {
        "id": "FNK8tX-H5X58",
        "outputId": "f45b762e-697a-44cb-ce38-cc5ca1e6b217",
        "colab": {
          "base_uri": "https://localhost:8080/"
        }
      },
      "execution_count": 161,
      "outputs": [
        {
          "output_type": "stream",
          "name": "stdout",
          "text": [
            "21:30:15\n",
            "['21', '30', '15']\n",
            "แปลงเป็นวินาทีได้ 77415 วินาที\n"
          ]
        }
      ]
    },
    {
      "cell_type": "code",
      "source": [
        "#03:10:15\n",
        "choice5 = '03:10:15'\n",
        "print(choice5)\n",
        "print(choice5.split(':'))\n",
        "a5 = choice5.split(':')[0]\n",
        "b5 = choice5.split(':')[1]\n",
        "c5 = choice5.split(':')[2]\n",
        "time5 = int(a5)*60*60 + (int(b5)*60) + int(c5)\n",
        "ans5 = 'แปลงเป็นวินาทีได้ ' + str(time5) + ' วินาที'\n",
        "print(ans5)"
      ],
      "metadata": {
        "id": "X7rBi8EM5ZM8",
        "outputId": "ea686578-991b-4212-dc38-3bc6634281b1",
        "colab": {
          "base_uri": "https://localhost:8080/"
        }
      },
      "execution_count": 162,
      "outputs": [
        {
          "output_type": "stream",
          "name": "stdout",
          "text": [
            "03:10:15\n",
            "['03', '10', '15']\n",
            "แปลงเป็นวินาทีได้ 11415 วินาที\n"
          ]
        }
      ]
    },
    {
      "cell_type": "markdown",
      "source": [
        "## Dictionary"
      ],
      "metadata": {
        "id": "fuYiry25O_YE"
      }
    },
    {
      "cell_type": "markdown",
      "source": [
        "- คล้าย list()\n",
        "- index เป็นเลขอะไรก็ได้ ไม่จำเป็นต้องเป็นตัวเลขลำดับ\n",
        "- ลำดับไม่มีความหมาย"
      ],
      "metadata": {
        "id": "Yev6rBU9PPsC"
      }
    },
    {
      "cell_type": "markdown",
      "source": [
        "### สร้าง Dictionary"
      ],
      "metadata": {
        "id": "03fzjvtXQ51U"
      }
    },
    {
      "cell_type": "markdown",
      "source": [
        "### การชี้ สมาชิก ใน dictionary"
      ],
      "metadata": {
        "id": "vc-Id51zRCdt"
      }
    },
    {
      "cell_type": "code",
      "source": [
        "dict_a = {1:'Happy','N':'New','2022':'Year'}  ## {} curly brackets"
      ],
      "metadata": {
        "id": "2LNjU2fVPkWD"
      },
      "execution_count": 163,
      "outputs": []
    },
    {
      "cell_type": "code",
      "source": [
        "dict_a[1]"
      ],
      "metadata": {
        "id": "yhTgNtiiP_be",
        "outputId": "1056cec6-f37a-4720-f0b9-c638ef7741e6",
        "colab": {
          "base_uri": "https://localhost:8080/",
          "height": 0
        }
      },
      "execution_count": 164,
      "outputs": [
        {
          "output_type": "execute_result",
          "data": {
            "application/vnd.google.colaboratory.intrinsic+json": {
              "type": "string"
            },
            "text/plain": [
              "'Happy'"
            ]
          },
          "metadata": {},
          "execution_count": 164
        }
      ]
    },
    {
      "cell_type": "code",
      "source": [
        "dict_a['N']"
      ],
      "metadata": {
        "id": "UTi1AUbLQlfl",
        "outputId": "29abbb2c-a883-4361-ed9f-0989ae7f7061",
        "colab": {
          "base_uri": "https://localhost:8080/",
          "height": 0
        }
      },
      "execution_count": 165,
      "outputs": [
        {
          "output_type": "execute_result",
          "data": {
            "application/vnd.google.colaboratory.intrinsic+json": {
              "type": "string"
            },
            "text/plain": [
              "'New'"
            ]
          },
          "metadata": {},
          "execution_count": 165
        }
      ]
    },
    {
      "cell_type": "code",
      "source": [
        "dict_a.keys()"
      ],
      "metadata": {
        "id": "MrXvNKThQsHg",
        "outputId": "ff67f6b0-8479-4694-e019-639efe22ecd7",
        "colab": {
          "base_uri": "https://localhost:8080/"
        }
      },
      "execution_count": 166,
      "outputs": [
        {
          "output_type": "execute_result",
          "data": {
            "text/plain": [
              "dict_keys([1, 'N', '2022'])"
            ]
          },
          "metadata": {},
          "execution_count": 166
        }
      ]
    },
    {
      "cell_type": "code",
      "source": [
        "dict_a.values()"
      ],
      "metadata": {
        "id": "t0TADiqeQzHn",
        "outputId": "38f9104a-d938-47d1-fa06-529e5b1e2733",
        "colab": {
          "base_uri": "https://localhost:8080/"
        }
      },
      "execution_count": 167,
      "outputs": [
        {
          "output_type": "execute_result",
          "data": {
            "text/plain": [
              "dict_values(['Happy', 'New', 'Year'])"
            ]
          },
          "metadata": {},
          "execution_count": 167
        }
      ]
    },
    {
      "cell_type": "markdown",
      "source": [
        "### การเพิ่มสมาชิกลงไปใน Dictionary"
      ],
      "metadata": {
        "id": "K79MMeM2RLt3"
      }
    },
    {
      "cell_type": "code",
      "source": [
        "dict_a[7] = 3.14"
      ],
      "metadata": {
        "id": "jHuR12agRT00"
      },
      "execution_count": 168,
      "outputs": []
    },
    {
      "cell_type": "code",
      "source": [
        "dict_a"
      ],
      "metadata": {
        "id": "DGwQ3Zy9RapO",
        "outputId": "6c4ca037-2f94-42f6-d03b-a9e64f5858aa",
        "colab": {
          "base_uri": "https://localhost:8080/"
        }
      },
      "execution_count": 169,
      "outputs": [
        {
          "output_type": "execute_result",
          "data": {
            "text/plain": [
              "{1: 'Happy', '2022': 'Year', 7: 3.14, 'N': 'New'}"
            ]
          },
          "metadata": {},
          "execution_count": 169
        }
      ]
    },
    {
      "cell_type": "code",
      "source": [
        "dict_a['N']='NNNNEEEEWWWW'"
      ],
      "metadata": {
        "id": "uwJdsntSSDjJ"
      },
      "execution_count": 170,
      "outputs": []
    },
    {
      "cell_type": "code",
      "source": [
        "dict_a"
      ],
      "metadata": {
        "id": "MkJA9SG6SdK-",
        "outputId": "7a8b7ff3-3b53-4f18-daaa-eb60adb85421",
        "colab": {
          "base_uri": "https://localhost:8080/"
        }
      },
      "execution_count": 171,
      "outputs": [
        {
          "output_type": "execute_result",
          "data": {
            "text/plain": [
              "{1: 'Happy', '2022': 'Year', 7: 3.14, 'N': 'NNNNEEEEWWWW'}"
            ]
          },
          "metadata": {},
          "execution_count": 171
        }
      ]
    },
    {
      "cell_type": "markdown",
      "source": [
        "##Numpy Array"
      ],
      "metadata": {
        "id": "KGPXGht0PCkg"
      }
    },
    {
      "cell_type": "markdown",
      "source": [
        "![mg8O3kd.png](data:image/png;base64,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)\n",
        "\n"
      ],
      "metadata": {
        "id": "3aK7_geQUuoV"
      }
    },
    {
      "cell_type": "markdown",
      "source": [
        "- เก็บได้แต่ตัวเลข\n",
        "- อ้างอิงโดยใช้ พิกัด (2มิติ ก็มองเป็น Matrix)"
      ],
      "metadata": {
        "id": "vrdv8fB7UYJ_"
      }
    },
    {
      "cell_type": "code",
      "source": [
        "import numpy"
      ],
      "metadata": {
        "id": "ItUipXsXUuKW"
      },
      "execution_count": 172,
      "outputs": []
    },
    {
      "cell_type": "code",
      "source": [
        "list_A=[1,2,3,4,5]"
      ],
      "metadata": {
        "id": "RayIdox_V3h1"
      },
      "execution_count": 173,
      "outputs": []
    },
    {
      "cell_type": "code",
      "source": [
        "arr_a = numpy.array(list_A)"
      ],
      "metadata": {
        "id": "SLZ6fN9YPBpp"
      },
      "execution_count": 174,
      "outputs": []
    },
    {
      "cell_type": "code",
      "source": [
        "arr_a"
      ],
      "metadata": {
        "id": "hIDT3ohPVgjJ",
        "outputId": "9f8f3fe9-6da4-4480-e5f8-59f4956492ff",
        "colab": {
          "base_uri": "https://localhost:8080/"
        }
      },
      "execution_count": 175,
      "outputs": [
        {
          "output_type": "execute_result",
          "data": {
            "text/plain": [
              "array([1, 2, 3, 4, 5])"
            ]
          },
          "metadata": {},
          "execution_count": 175
        }
      ]
    },
    {
      "cell_type": "code",
      "source": [
        "list_A"
      ],
      "metadata": {
        "id": "LO71HaSaWCm2",
        "outputId": "9d26e22d-4b98-40c2-9dc7-5c56d3851a0f",
        "colab": {
          "base_uri": "https://localhost:8080/"
        }
      },
      "execution_count": 176,
      "outputs": [
        {
          "output_type": "execute_result",
          "data": {
            "text/plain": [
              "[1, 2, 3, 4, 5]"
            ]
          },
          "metadata": {},
          "execution_count": 176
        }
      ]
    },
    {
      "cell_type": "code",
      "source": [
        "arr_a[0]"
      ],
      "metadata": {
        "id": "dIyMXC6eVjcy",
        "outputId": "0d6011d7-d218-47b2-95fb-b0eb176cf266",
        "colab": {
          "base_uri": "https://localhost:8080/"
        }
      },
      "execution_count": 177,
      "outputs": [
        {
          "output_type": "execute_result",
          "data": {
            "text/plain": [
              "1"
            ]
          },
          "metadata": {},
          "execution_count": 177
        }
      ]
    },
    {
      "cell_type": "code",
      "source": [
        "list_A[0]"
      ],
      "metadata": {
        "id": "kXfObRziVqYA",
        "outputId": "c57879b9-f7fa-464a-f4d3-61a2fb944b0a",
        "colab": {
          "base_uri": "https://localhost:8080/"
        }
      },
      "execution_count": 178,
      "outputs": [
        {
          "output_type": "execute_result",
          "data": {
            "text/plain": [
              "1"
            ]
          },
          "metadata": {},
          "execution_count": 178
        }
      ]
    },
    {
      "cell_type": "code",
      "source": [
        "5 * arr_a # Matrix (scalar multiplication)"
      ],
      "metadata": {
        "id": "WpFAY-jBWIE3",
        "outputId": "f8d6590f-2ecf-4186-aec0-f4a1c3fa0084",
        "colab": {
          "base_uri": "https://localhost:8080/"
        }
      },
      "execution_count": 179,
      "outputs": [
        {
          "output_type": "execute_result",
          "data": {
            "text/plain": [
              "array([ 5, 10, 15, 20, 25])"
            ]
          },
          "metadata": {},
          "execution_count": 179
        }
      ]
    },
    {
      "cell_type": "code",
      "source": [
        "5*list_A"
      ],
      "metadata": {
        "id": "B3pU8-CmWWQf",
        "outputId": "71ca1fa1-995d-473a-a475-0aef1e28ff68",
        "colab": {
          "base_uri": "https://localhost:8080/"
        }
      },
      "execution_count": 180,
      "outputs": [
        {
          "output_type": "execute_result",
          "data": {
            "text/plain": [
              "[1, 2, 3, 4, 5, 1, 2, 3, 4, 5, 1, 2, 3, 4, 5, 1, 2, 3, 4, 5, 1, 2, 3, 4, 5]"
            ]
          },
          "metadata": {},
          "execution_count": 180
        }
      ]
    },
    {
      "cell_type": "code",
      "source": [
        "arr_b = numpy.array([10,20,30,40,50])"
      ],
      "metadata": {
        "id": "7g97sL--Xnie"
      },
      "execution_count": 181,
      "outputs": []
    },
    {
      "cell_type": "code",
      "source": [
        "print(arr_a)"
      ],
      "metadata": {
        "id": "qHoiwul0XvbN",
        "outputId": "a5638573-5150-4ea7-bed4-198a2b95f13f",
        "colab": {
          "base_uri": "https://localhost:8080/"
        }
      },
      "execution_count": 182,
      "outputs": [
        {
          "output_type": "stream",
          "name": "stdout",
          "text": [
            "[1 2 3 4 5]\n"
          ]
        }
      ]
    },
    {
      "cell_type": "code",
      "source": [
        "arr_a + arr_b"
      ],
      "metadata": {
        "id": "jqIHqfraX0iF",
        "outputId": "475d883a-4c84-4f1d-f18b-6e1dc914cdfd",
        "colab": {
          "base_uri": "https://localhost:8080/"
        }
      },
      "execution_count": 183,
      "outputs": [
        {
          "output_type": "execute_result",
          "data": {
            "text/plain": [
              "array([11, 22, 33, 44, 55])"
            ]
          },
          "metadata": {},
          "execution_count": 183
        }
      ]
    },
    {
      "cell_type": "code",
      "source": [
        "(arr_a+arr_b).shape"
      ],
      "metadata": {
        "id": "Bjv2o4npaA-A",
        "outputId": "adc7ef9b-a114-4cba-804f-de146d31bcd5",
        "colab": {
          "base_uri": "https://localhost:8080/"
        }
      },
      "execution_count": 184,
      "outputs": [
        {
          "output_type": "execute_result",
          "data": {
            "text/plain": [
              "(5,)"
            ]
          },
          "metadata": {},
          "execution_count": 184
        }
      ]
    },
    {
      "cell_type": "markdown",
      "source": [
        "#### 2D array"
      ],
      "metadata": {
        "id": "NoFg0g6wYSub"
      }
    },
    {
      "cell_type": "code",
      "source": [
        "import numpy as np"
      ],
      "metadata": {
        "id": "_VmeeiruYW2N"
      },
      "execution_count": 185,
      "outputs": []
    },
    {
      "cell_type": "code",
      "source": [
        "arr2_z = np.array([[1,2,3],[4,5,6]])"
      ],
      "metadata": {
        "id": "0fO-bNJcYbiu"
      },
      "execution_count": 186,
      "outputs": []
    },
    {
      "cell_type": "code",
      "source": [
        "arr2_z"
      ],
      "metadata": {
        "id": "T4s1j8UaZCYC",
        "outputId": "11d73558-ae41-4ce4-b463-4d23e6de19e5",
        "colab": {
          "base_uri": "https://localhost:8080/"
        }
      },
      "execution_count": 187,
      "outputs": [
        {
          "output_type": "execute_result",
          "data": {
            "text/plain": [
              "array([[1, 2, 3],\n",
              "       [4, 5, 6]])"
            ]
          },
          "metadata": {},
          "execution_count": 187
        }
      ]
    },
    {
      "cell_type": "code",
      "source": [
        "arr2_z.shape"
      ],
      "metadata": {
        "id": "wMheZbpRZqf0",
        "outputId": "d4ba8ed6-df59-4dff-815b-06cf6d155ffb",
        "colab": {
          "base_uri": "https://localhost:8080/"
        }
      },
      "execution_count": 188,
      "outputs": [
        {
          "output_type": "execute_result",
          "data": {
            "text/plain": [
              "(2, 3)"
            ]
          },
          "metadata": {},
          "execution_count": 188
        }
      ]
    },
    {
      "cell_type": "markdown",
      "source": [
        "####np.zeros()"
      ],
      "metadata": {
        "id": "5w1P5MJtaQXD"
      }
    },
    {
      "cell_type": "code",
      "source": [
        "arr2_3_4_5_0 = np.zeros((3,5))"
      ],
      "metadata": {
        "id": "HHq-0RXdafwC"
      },
      "execution_count": 189,
      "outputs": []
    },
    {
      "cell_type": "code",
      "source": [
        "arr2_3_4_5_0"
      ],
      "metadata": {
        "id": "9VwNBQ9Mai9y",
        "outputId": "fa9795d4-8e98-4642-cff0-028d01ead88e",
        "colab": {
          "base_uri": "https://localhost:8080/"
        }
      },
      "execution_count": 190,
      "outputs": [
        {
          "output_type": "execute_result",
          "data": {
            "text/plain": [
              "array([[0., 0., 0., 0., 0.],\n",
              "       [0., 0., 0., 0., 0.],\n",
              "       [0., 0., 0., 0., 0.]])"
            ]
          },
          "metadata": {},
          "execution_count": 190
        }
      ]
    },
    {
      "cell_type": "code",
      "source": [
        "arr2_3_4_5_0[1,2] = 9 # กำหนดค่า"
      ],
      "metadata": {
        "id": "Xe7BOLrtasIt"
      },
      "execution_count": 191,
      "outputs": []
    },
    {
      "cell_type": "code",
      "source": [
        "arr2_3_4_5_0"
      ],
      "metadata": {
        "id": "27Vc7hlBaz73",
        "outputId": "c37ba8b4-e7c1-4665-e4ca-fd3ec8ebad13",
        "colab": {
          "base_uri": "https://localhost:8080/"
        }
      },
      "execution_count": 192,
      "outputs": [
        {
          "output_type": "execute_result",
          "data": {
            "text/plain": [
              "array([[0., 0., 0., 0., 0.],\n",
              "       [0., 0., 9., 0., 0.],\n",
              "       [0., 0., 0., 0., 0.]])"
            ]
          },
          "metadata": {},
          "execution_count": 192
        }
      ]
    },
    {
      "cell_type": "code",
      "source": [
        "arr2_3_4_5_0[1,2] # ชี้"
      ],
      "metadata": {
        "id": "CVGaLv_9bFHK",
        "outputId": "1aa25ef2-6d3c-45cd-f167-83aaecf831a5",
        "colab": {
          "base_uri": "https://localhost:8080/"
        }
      },
      "execution_count": 193,
      "outputs": [
        {
          "output_type": "execute_result",
          "data": {
            "text/plain": [
              "9.0"
            ]
          },
          "metadata": {},
          "execution_count": 193
        }
      ]
    },
    {
      "cell_type": "code",
      "source": [
        "print(list_A)  # เปลี่ยนค่าใน list\n",
        "list_A[-1] = 'Christmas'\n",
        "print(list_A)"
      ],
      "metadata": {
        "id": "rTpAH4vhbvu9",
        "outputId": "8fc56d80-8866-4fe5-e107-c8ab320fbd12",
        "colab": {
          "base_uri": "https://localhost:8080/"
        }
      },
      "execution_count": 194,
      "outputs": [
        {
          "output_type": "stream",
          "name": "stdout",
          "text": [
            "[1, 2, 3, 4, 5]\n",
            "[1, 2, 3, 4, 'Christmas']\n"
          ]
        }
      ]
    },
    {
      "cell_type": "markdown",
      "source": [
        "#### np.ones()"
      ],
      "metadata": {
        "id": "l2quXmAJcAKF"
      }
    },
    {
      "cell_type": "code",
      "source": [
        "arr2_4_5_1 = np.ones((4,5))"
      ],
      "metadata": {
        "id": "ZH577qitcFgB"
      },
      "execution_count": 195,
      "outputs": []
    },
    {
      "cell_type": "code",
      "source": [
        "arr2_4_5_1"
      ],
      "metadata": {
        "id": "tlx9HU0DcOZO",
        "outputId": "4ef34b92-dcbc-4c41-dac8-2640526f5b5f",
        "colab": {
          "base_uri": "https://localhost:8080/"
        }
      },
      "execution_count": 196,
      "outputs": [
        {
          "output_type": "execute_result",
          "data": {
            "text/plain": [
              "array([[1., 1., 1., 1., 1.],\n",
              "       [1., 1., 1., 1., 1.],\n",
              "       [1., 1., 1., 1., 1.],\n",
              "       [1., 1., 1., 1., 1.]])"
            ]
          },
          "metadata": {},
          "execution_count": 196
        }
      ]
    },
    {
      "cell_type": "code",
      "source": [
        "arr2_4_5_200 = 200 * np.ones((4,5))"
      ],
      "metadata": {
        "id": "rwgelJAUcZCS"
      },
      "execution_count": 197,
      "outputs": []
    },
    {
      "cell_type": "code",
      "source": [
        "arr2_4_5_200"
      ],
      "metadata": {
        "id": "ZS91LBzTdEMi",
        "outputId": "0a199f86-eb24-4c6b-87c3-9c1522914aaa",
        "colab": {
          "base_uri": "https://localhost:8080/"
        }
      },
      "execution_count": 198,
      "outputs": [
        {
          "output_type": "execute_result",
          "data": {
            "text/plain": [
              "array([[200., 200., 200., 200., 200.],\n",
              "       [200., 200., 200., 200., 200.],\n",
              "       [200., 200., 200., 200., 200.],\n",
              "       [200., 200., 200., 200., 200.]])"
            ]
          },
          "metadata": {},
          "execution_count": 198
        }
      ]
    },
    {
      "cell_type": "markdown",
      "source": [
        "#### Matrix operations"
      ],
      "metadata": {
        "id": "3htODFB3dICv"
      }
    },
    {
      "cell_type": "markdown",
      "source": [
        "การบวก ลบ Matrix $M \\pm N$ บวกลบตัวที่อยู่ตำแหน่งเดียวกัน"
      ],
      "metadata": {
        "id": "hvuuOmmwdNaS"
      }
    },
    {
      "cell_type": "code",
      "source": [
        "arr2_4_5_200 + arr2_3_4_5_0 # การบวก ลบ Matrix shape ต้องเท่ากัน"
      ],
      "metadata": {
        "id": "Q8v91-QEdQts",
        "outputId": "098d444f-b9f7-4e6e-a0f8-5df5c27b2860",
        "colab": {
          "base_uri": "https://localhost:8080/",
          "height": 166
        }
      },
      "execution_count": 199,
      "outputs": [
        {
          "output_type": "error",
          "ename": "ValueError",
          "evalue": "ignored",
          "traceback": [
            "\u001b[0;31m---------------------------------------------------------------------------\u001b[0m",
            "\u001b[0;31mValueError\u001b[0m                                Traceback (most recent call last)",
            "\u001b[0;32m<ipython-input-199-7dfa054bea27>\u001b[0m in \u001b[0;36m<module>\u001b[0;34m()\u001b[0m\n\u001b[0;32m----> 1\u001b[0;31m \u001b[0marr2_4_5_200\u001b[0m \u001b[0;34m+\u001b[0m \u001b[0marr2_3_4_5_0\u001b[0m \u001b[0;31m# การบวก ลบ Matrix shape ต้องเท่ากัน\u001b[0m\u001b[0;34m\u001b[0m\u001b[0;34m\u001b[0m\u001b[0m\n\u001b[0m",
            "\u001b[0;31mValueError\u001b[0m: operands could not be broadcast together with shapes (4,5) (3,5) "
          ]
        }
      ]
    },
    {
      "cell_type": "code",
      "source": [
        "arr2_4_5_200 + arr2_4_5_1 "
      ],
      "metadata": {
        "id": "d8yGkBztdjBR",
        "outputId": "905512ff-6e6b-46f4-ffc0-2e31c3a7f978",
        "colab": {
          "base_uri": "https://localhost:8080/"
        }
      },
      "execution_count": 200,
      "outputs": [
        {
          "output_type": "execute_result",
          "data": {
            "text/plain": [
              "array([[201., 201., 201., 201., 201.],\n",
              "       [201., 201., 201., 201., 201.],\n",
              "       [201., 201., 201., 201., 201.],\n",
              "       [201., 201., 201., 201., 201.]])"
            ]
          },
          "metadata": {},
          "execution_count": 200
        }
      ]
    },
    {
      "cell_type": "markdown",
      "source": [
        "#### การคูณ matrix\n",
        "- $aM$ scalar คูณ matrix (scalar คูณเข้าไปทุกตัวของ matrix)\n",
        "- $M\\times N$ Matrix คูณ matrix (แถวคูณหลัก)"
      ],
      "metadata": {
        "id": "Trz3i8ikdtBi"
      }
    },
    {
      "cell_type": "markdown",
      "source": [
        "$aM$"
      ],
      "metadata": {
        "id": "_-IUr5u6fKPM"
      }
    },
    {
      "cell_type": "code",
      "source": [
        "5 * arr_a # matrix (scalar multiplication)"
      ],
      "metadata": {
        "id": "XF_IuRyBe8vf",
        "outputId": "e9823c51-00ba-48dd-cac3-29a34c37a2fe",
        "colab": {
          "base_uri": "https://localhost:8080/"
        }
      },
      "execution_count": 201,
      "outputs": [
        {
          "output_type": "execute_result",
          "data": {
            "text/plain": [
              "array([ 5, 10, 15, 20, 25])"
            ]
          },
          "metadata": {},
          "execution_count": 201
        }
      ]
    },
    {
      "cell_type": "markdown",
      "source": [
        "$M\\times N$ (dot product)\n",
        "- (m,n) x (n,o) = (m,o) shape\n",
        "\n",
        "![download.png](data:image/png;base64,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)"
      ],
      "metadata": {
        "id": "BaRwoLaKfQOy"
      }
    },
    {
      "cell_type": "code",
      "source": [
        "mat_a = np.array([[2,3,5],[4,5,7]])\n",
        "mat_b = np.array([[1,2,5],[2,4,-7]])\n",
        "mat_c = np.array([[2,3],[4,6],[7,9]])"
      ],
      "metadata": {
        "id": "b1VE6MoxfPix"
      },
      "execution_count": 202,
      "outputs": []
    },
    {
      "cell_type": "code",
      "source": [
        "mat_a"
      ],
      "metadata": {
        "id": "1pTP76fVhQO8",
        "outputId": "0bff04a2-38c1-4aa8-c80f-39c66dc0f4ad",
        "colab": {
          "base_uri": "https://localhost:8080/"
        }
      },
      "execution_count": 203,
      "outputs": [
        {
          "output_type": "execute_result",
          "data": {
            "text/plain": [
              "array([[2, 3, 5],\n",
              "       [4, 5, 7]])"
            ]
          },
          "metadata": {},
          "execution_count": 203
        }
      ]
    },
    {
      "cell_type": "code",
      "source": [
        "mat_b"
      ],
      "metadata": {
        "id": "IQ1OLK41hSqm",
        "outputId": "5438ca3d-dcee-42c7-eeae-542092576d2e",
        "colab": {
          "base_uri": "https://localhost:8080/"
        }
      },
      "execution_count": 204,
      "outputs": [
        {
          "output_type": "execute_result",
          "data": {
            "text/plain": [
              "array([[ 1,  2,  5],\n",
              "       [ 2,  4, -7]])"
            ]
          },
          "metadata": {},
          "execution_count": 204
        }
      ]
    },
    {
      "cell_type": "code",
      "source": [
        "mat_c"
      ],
      "metadata": {
        "id": "dOjqbMvuhSXz",
        "outputId": "3c58a0a2-cc6a-424f-aea5-f58ca247346c",
        "colab": {
          "base_uri": "https://localhost:8080/"
        }
      },
      "execution_count": 205,
      "outputs": [
        {
          "output_type": "execute_result",
          "data": {
            "text/plain": [
              "array([[2, 3],\n",
              "       [4, 6],\n",
              "       [7, 9]])"
            ]
          },
          "metadata": {},
          "execution_count": 205
        }
      ]
    },
    {
      "cell_type": "markdown",
      "source": [
        "axc,bxc"
      ],
      "metadata": {
        "id": "WbRVzq9uh9uz"
      }
    },
    {
      "cell_type": "code",
      "source": [
        "np.dot(mat_a,mat_c)"
      ],
      "metadata": {
        "id": "GEY1TnbLhvHo",
        "outputId": "76c8fc12-73d7-4dd4-dc49-fb70f82aa5b7",
        "colab": {
          "base_uri": "https://localhost:8080/"
        }
      },
      "execution_count": 206,
      "outputs": [
        {
          "output_type": "execute_result",
          "data": {
            "text/plain": [
              "array([[ 51,  69],\n",
              "       [ 77, 105]])"
            ]
          },
          "metadata": {},
          "execution_count": 206
        }
      ]
    },
    {
      "cell_type": "code",
      "source": [
        "np.dot(mat_b,mat_c)"
      ],
      "metadata": {
        "id": "JVLvGXFqhZY6",
        "outputId": "3ef4dc66-e210-4dd6-e494-0905158dcb20",
        "colab": {
          "base_uri": "https://localhost:8080/"
        }
      },
      "execution_count": 207,
      "outputs": [
        {
          "output_type": "execute_result",
          "data": {
            "text/plain": [
              "array([[ 45,  60],\n",
              "       [-29, -33]])"
            ]
          },
          "metadata": {},
          "execution_count": 207
        }
      ]
    },
    {
      "cell_type": "markdown",
      "source": [
        "cxa,cxb"
      ],
      "metadata": {
        "id": "CwuDEr0aiFlt"
      }
    },
    {
      "cell_type": "code",
      "source": [
        "np.dot(mat_c,mat_a)"
      ],
      "metadata": {
        "id": "BTJIZ4kUhizm",
        "outputId": "f8385a2b-45d5-4f19-818c-24c85bbfe4b3",
        "colab": {
          "base_uri": "https://localhost:8080/"
        }
      },
      "execution_count": 208,
      "outputs": [
        {
          "output_type": "execute_result",
          "data": {
            "text/plain": [
              "array([[16, 21, 31],\n",
              "       [32, 42, 62],\n",
              "       [50, 66, 98]])"
            ]
          },
          "metadata": {},
          "execution_count": 208
        }
      ]
    },
    {
      "cell_type": "code",
      "source": [
        "np.dot(mat_c,mat_b)"
      ],
      "metadata": {
        "id": "VPgRcLNdhptG",
        "outputId": "0dd5e796-78b4-4f02-fbb6-dc6bcff1dfe8",
        "colab": {
          "base_uri": "https://localhost:8080/"
        }
      },
      "execution_count": 209,
      "outputs": [
        {
          "output_type": "execute_result",
          "data": {
            "text/plain": [
              "array([[  8,  16, -11],\n",
              "       [ 16,  32, -22],\n",
              "       [ 25,  50, -28]])"
            ]
          },
          "metadata": {},
          "execution_count": 209
        }
      ]
    },
    {
      "cell_type": "code",
      "source": [
        "mat_a * mat_b #คูณตำแหน่งเดียวกัน"
      ],
      "metadata": {
        "id": "IL0yejobiKhL",
        "outputId": "726cbadc-bd8b-4437-9ccf-28c3f8b6c3c3",
        "colab": {
          "base_uri": "https://localhost:8080/"
        }
      },
      "execution_count": 210,
      "outputs": [
        {
          "output_type": "execute_result",
          "data": {
            "text/plain": [
              "array([[  2,   6,  25],\n",
              "       [  8,  20, -49]])"
            ]
          },
          "metadata": {},
          "execution_count": 210
        }
      ]
    },
    {
      "cell_type": "markdown",
      "source": [
        "#### Matrix slicing"
      ],
      "metadata": {
        "id": "-xqJinTziTSm"
      }
    },
    {
      "cell_type": "code",
      "source": [
        "mat_X = np.dot(mat_c,mat_b)\n",
        "print(mat_X)"
      ],
      "metadata": {
        "id": "CWosv6BejWYn",
        "outputId": "6a74d964-e7dc-42f8-f790-2dfbcd65e9c0",
        "colab": {
          "base_uri": "https://localhost:8080/"
        }
      },
      "execution_count": 211,
      "outputs": [
        {
          "output_type": "stream",
          "name": "stdout",
          "text": [
            "[[  8  16 -11]\n",
            " [ 16  32 -22]\n",
            " [ 25  50 -28]]\n"
          ]
        }
      ]
    },
    {
      "cell_type": "code",
      "source": [
        "mat_X[:2,:2]"
      ],
      "metadata": {
        "id": "IzhF9ndtiXe0",
        "outputId": "e0a1f456-a9f5-4b48-e637-5f3b347b541d",
        "colab": {
          "base_uri": "https://localhost:8080/"
        }
      },
      "execution_count": 212,
      "outputs": [
        {
          "output_type": "execute_result",
          "data": {
            "text/plain": [
              "array([[ 8, 16],\n",
              "       [16, 32]])"
            ]
          },
          "metadata": {},
          "execution_count": 212
        }
      ]
    },
    {
      "cell_type": "markdown",
      "source": [
        "HW 3\n",
        "1. สร้าง array ที่เป็นรูป ต้น Christmas\n",
        "2. slice เลข 1 ออกมาจาก array HW3"
      ],
      "metadata": {
        "id": "aIlFy01ai2Mh"
      }
    },
    {
      "cell_type": "code",
      "source": [
        "HW3 = np.zeros((10,10))\n",
        "HW3"
      ],
      "metadata": {
        "id": "HcrYp4GgkN9G",
        "outputId": "fd0df7d5-0bb8-4297-a93f-1d5c6c671e18",
        "colab": {
          "base_uri": "https://localhost:8080/"
        }
      },
      "execution_count": 213,
      "outputs": [
        {
          "output_type": "execute_result",
          "data": {
            "text/plain": [
              "array([[0., 0., 0., 0., 0., 0., 0., 0., 0., 0.],\n",
              "       [0., 0., 0., 0., 0., 0., 0., 0., 0., 0.],\n",
              "       [0., 0., 0., 0., 0., 0., 0., 0., 0., 0.],\n",
              "       [0., 0., 0., 0., 0., 0., 0., 0., 0., 0.],\n",
              "       [0., 0., 0., 0., 0., 0., 0., 0., 0., 0.],\n",
              "       [0., 0., 0., 0., 0., 0., 0., 0., 0., 0.],\n",
              "       [0., 0., 0., 0., 0., 0., 0., 0., 0., 0.],\n",
              "       [0., 0., 0., 0., 0., 0., 0., 0., 0., 0.],\n",
              "       [0., 0., 0., 0., 0., 0., 0., 0., 0., 0.],\n",
              "       [0., 0., 0., 0., 0., 0., 0., 0., 0., 0.]])"
            ]
          },
          "metadata": {},
          "execution_count": 213
        }
      ]
    },
    {
      "cell_type": "code",
      "source": [
        "HW3 [::4,2] = 1\n",
        "HW3 [::4,4] = 1\n",
        "HW3 [::4,6] = 1\n",
        "HW3 [::4,8] = 1\n",
        "HW3 "
      ],
      "metadata": {
        "id": "BRvADUuBkgN3",
        "outputId": "a9ad6eb6-4bfe-470a-c1f1-7dca8daa5986",
        "colab": {
          "base_uri": "https://localhost:8080/"
        }
      },
      "execution_count": 214,
      "outputs": [
        {
          "output_type": "execute_result",
          "data": {
            "text/plain": [
              "array([[0., 0., 1., 0., 1., 0., 1., 0., 1., 0.],\n",
              "       [0., 0., 0., 0., 0., 0., 0., 0., 0., 0.],\n",
              "       [0., 0., 0., 0., 0., 0., 0., 0., 0., 0.],\n",
              "       [0., 0., 0., 0., 0., 0., 0., 0., 0., 0.],\n",
              "       [0., 0., 1., 0., 1., 0., 1., 0., 1., 0.],\n",
              "       [0., 0., 0., 0., 0., 0., 0., 0., 0., 0.],\n",
              "       [0., 0., 0., 0., 0., 0., 0., 0., 0., 0.],\n",
              "       [0., 0., 0., 0., 0., 0., 0., 0., 0., 0.],\n",
              "       [0., 0., 1., 0., 1., 0., 1., 0., 1., 0.],\n",
              "       [0., 0., 0., 0., 0., 0., 0., 0., 0., 0.]])"
            ]
          },
          "metadata": {},
          "execution_count": 214
        }
      ]
    },
    {
      "cell_type": "markdown",
      "source": [
        "### Pandas Dataframe (แยกออกไปเป็น Notebook เฉพาะ)"
      ],
      "metadata": {
        "id": "3gtHptKuWyzi"
      }
    },
    {
      "cell_type": "code",
      "source": [
        ""
      ],
      "metadata": {
        "id": "ciRtNRT2WyMU"
      },
      "execution_count": 214,
      "outputs": []
    },
    {
      "cell_type": "code",
      "source": [
        ""
      ],
      "metadata": {
        "id": "LCEdJSXHWuFv"
      },
      "execution_count": 214,
      "outputs": []
    }
  ]
}