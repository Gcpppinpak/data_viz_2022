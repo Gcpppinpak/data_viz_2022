{
  "nbformat": 4,
  "nbformat_minor": 0,
  "metadata": {
    "colab": {
      "name": "Intro0.ipynb",
      "provenance": [],
      "authorship_tag": "ABX9TyOfnq3BPNR4WQjlDY5IW2W4",
      "include_colab_link": true
    },
    "kernelspec": {
      "name": "python3",
      "display_name": "Python 3"
    },
    "language_info": {
      "name": "python"
    }
  },
  "cells": [
    {
      "cell_type": "markdown",
      "metadata": {
        "id": "view-in-github",
        "colab_type": "text"
      },
      "source": [
        "<a href=\"https://colab.research.google.com/github/Gcpppinpak/data_viz_2022/blob/main/Intro0.ipynb\" target=\"_parent\"><img src=\"https://colab.research.google.com/assets/colab-badge.svg\" alt=\"Open In Colab\"/></a>"
      ]
    },
    {
      "cell_type": "markdown",
      "source": [
        "Introduction to basic programming for data science and data visualization"
      ],
      "metadata": {
        "id": "lB8PvqO1-R2r"
      }
    },
    {
      "cell_type": "code",
      "execution_count": 3,
      "metadata": {
        "colab": {
          "base_uri": "https://localhost:8080/"
        },
        "id": "TrkpdZRW9yNp",
        "outputId": "e5c5d12b-f762-470b-b706-849532e7a4e9"
      },
      "outputs": [
        {
          "output_type": "execute_result",
          "data": {
            "text/plain": [
              "3"
            ]
          },
          "metadata": {},
          "execution_count": 3
        }
      ],
      "source": [
        "a = 1\n",
        "b = 2\n",
        "a+b"
      ]
    },
    {
      "cell_type": "code",
      "source": [
        "print('พรภูมินทร์ ประเสริฐ ID 623021006-9')"
      ],
      "metadata": {
        "colab": {
          "base_uri": "https://localhost:8080/"
        },
        "id": "WxcHsDeF_Wu4",
        "outputId": "2666bb52-fc29-477b-bd88-5c33355fbb3f"
      },
      "execution_count": 4,
      "outputs": [
        {
          "output_type": "stream",
          "name": "stdout",
          "text": [
            "พรภูมินทร์ ประเสริฐ ID 623021006-9\n"
          ]
        }
      ]
    }
  ]
}