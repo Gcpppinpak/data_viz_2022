{
  "nbformat": 4,
  "nbformat_minor": 0,
  "metadata": {
    "colab": {
      "name": "Dashboard project.ipynb",
      "provenance": [],
      "authorship_tag": "ABX9TyNt3voG0JKVopHZj2JHI5rL",
      "include_colab_link": true
    },
    "kernelspec": {
      "name": "python3",
      "display_name": "Python 3"
    },
    "language_info": {
      "name": "python"
    }
  },
  "cells": [
    {
      "cell_type": "markdown",
      "metadata": {
        "id": "view-in-github",
        "colab_type": "text"
      },
      "source": [
        "<a href=\"https://colab.research.google.com/github/Gcpppinpak/data_viz_2022/blob/main/Dashboard_project.ipynb\" target=\"_parent\"><img src=\"https://colab.research.google.com/assets/colab-badge.svg\" alt=\"Open In Colab\"/></a>"
      ]
    },
    {
      "cell_type": "markdown",
      "source": [
        "# Data Covid-19"
      ],
      "metadata": {
        "id": "Dc5Yqlq9BsY6"
      }
    },
    {
      "cell_type": "code",
      "source": [
        "import pandas as pd\n",
        "import os"
      ],
      "metadata": {
        "id": "DXLYtxbP-aAM"
      },
      "execution_count": 6,
      "outputs": []
    },
    {
      "cell_type": "code",
      "source": [
        "from google.colab import drive      # ชี้ไฟล์ที่อยู่ใน google drive เพื่อเชื่อมต่อไฟล์\n",
        "drive.mount('/content/drive')\n",
        "path =  '/content/drive/My Drive/covid19_data'    # ชี้ dirve ที่เราต้องการ"
      ],
      "metadata": {
        "colab": {
          "base_uri": "https://localhost:8080/"
        },
        "id": "WnJ9Sz_s-Z9f",
        "outputId": "2fb868a1-00f8-4278-d5ec-73c0c425b5c3"
      },
      "execution_count": 7,
      "outputs": [
        {
          "output_type": "stream",
          "name": "stdout",
          "text": [
            "Drive already mounted at /content/drive; to attempt to forcibly remount, call drive.mount(\"/content/drive\", force_remount=True).\n"
          ]
        }
      ]
    },
    {
      "cell_type": "code",
      "source": [
        "data_file_path = os.path.join(path,'confirmed-cases.xlsx')   \n",
        "data_covid = pd.read_excel(data_file_path)   # อ่านไฟล์ excel"
      ],
      "metadata": {
        "id": "qGkSwyxy-Z58"
      },
      "execution_count": 8,
      "outputs": []
    },
    {
      "cell_type": "markdown",
      "source": [
        "# Data ภูมิภาค"
      ],
      "metadata": {
        "id": "cHvC9IWeB-46"
      }
    },
    {
      "cell_type": "code",
      "source": [
        ""
      ],
      "metadata": {
        "id": "ImquC4p-CKbO"
      },
      "execution_count": null,
      "outputs": []
    },
    {
      "cell_type": "markdown",
      "source": [
        "#Data หน่วยงานที่เข้าร่วมโครงการ หมอพร้อม"
      ],
      "metadata": {
        "id": "m7omUC8zCLLe"
      }
    },
    {
      "cell_type": "code",
      "source": [
        ""
      ],
      "metadata": {
        "id": "1zrAHGuFCWc6"
      },
      "execution_count": null,
      "outputs": []
    }
  ]
}