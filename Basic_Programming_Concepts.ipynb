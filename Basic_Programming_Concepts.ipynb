{
  "nbformat": 4,
  "nbformat_minor": 0,
  "metadata": {
    "colab": {
      "name": "Basic Programming Concepts",
      "provenance": [],
      "authorship_tag": "ABX9TyPKLXxDNXW/sDS+PfLs61lP",
      "include_colab_link": true
    },
    "kernelspec": {
      "name": "python3",
      "display_name": "Python 3"
    },
    "language_info": {
      "name": "python"
    }
  },
  "cells": [
    {
      "cell_type": "markdown",
      "metadata": {
        "id": "view-in-github",
        "colab_type": "text"
      },
      "source": [
        "<a href=\"https://colab.research.google.com/github/Gcpppinpak/data_viz_2022/blob/main/Basic_Programming_Concepts.ipynb\" target=\"_parent\"><img src=\"https://colab.research.google.com/assets/colab-badge.svg\" alt=\"Open In Colab\"/></a>"
      ]
    },
    {
      "cell_type": "markdown",
      "source": [
        "# Fucntions ($f(x)= y$)"
      ],
      "metadata": {
        "id": "BQ9wNc_sDtZB"
      }
    },
    {
      "cell_type": "markdown",
      "source": [
        "\n",
        "\n",
        "```python\n",
        "def function(input_x):\n",
        "    # do something with input_x to get output_y\n",
        "    return output_y\n",
        "```\n",
        "\n"
      ],
      "metadata": {
        "id": "2qeDsRPFEQPC"
      }
    },
    {
      "cell_type": "markdown",
      "source": [
        "$f1(x)=X^2+75$"
      ],
      "metadata": {
        "id": "Dmi8wHm-F_K-"
      }
    },
    {
      "cell_type": "code",
      "source": [
        "def function_f1(x):\n",
        "  a = x**2\n",
        "  y = a + 75\n",
        "  return y\n",
        "  \n",
        "  print ('done!')"
      ],
      "metadata": {
        "id": "HlXGMYPTEPzG"
      },
      "execution_count": 6,
      "outputs": []
    },
    {
      "cell_type": "code",
      "source": [
        "function_f1(3)"
      ],
      "metadata": {
        "colab": {
          "base_uri": "https://localhost:8080/"
        },
        "id": "lVTi8CUfGvUq",
        "outputId": "0e187f77-0c7a-4475-e269-48f00a8e79cb"
      },
      "execution_count": 5,
      "outputs": [
        {
          "output_type": "execute_result",
          "data": {
            "text/plain": [
              "84"
            ]
          },
          "metadata": {},
          "execution_count": 5
        }
      ]
    },
    {
      "cell_type": "markdown",
      "source": [
        "function มีส่วนสำคัญทั้งหมด 4 ส่วน\n",
        "\n",
        "1.บอก python ว่าเราจะเขียนฟังก์ชั่น ชื่ออะไร def function_name(): (ขาดไม่ได้)\n",
        "\n",
        "2.กำหนดตัวแปรที่จะเป็น input Input (ขาดได้)\n",
        "\n",
        "3.ส่วนประมวลผล do_something with Input to get Output (ขาดไม่ได้)\n",
        "\n",
        "4.ส่วน output return Output(ขาดได้)\n"
      ],
      "metadata": {
        "id": "bslE747gIXoc"
      }
    },
    {
      "cell_type": "markdown",
      "source": [
        "**ตัวอย่าง function ที่มีส่วนประกอบครบ**"
      ],
      "metadata": {
        "id": "BBBIEEuCL8Gh"
      }
    },
    {
      "cell_type": "code",
      "source": [
        "def function_f1(x):\n",
        "    a = x**2\n",
        "    y = a + 75\n",
        "    return y"
      ],
      "metadata": {
        "id": "d1hAB7kKMIYC"
      },
      "execution_count": 7,
      "outputs": []
    },
    {
      "cell_type": "markdown",
      "source": [
        "**ตัวอย่าง function ที่ ไม่มี input**"
      ],
      "metadata": {
        "id": "D6SfodHxML2t"
      }
    },
    {
      "cell_type": "code",
      "source": [
        "def pi_v():\n",
        "    y = 3.14159265359\n",
        "    return y"
      ],
      "metadata": {
        "id": "zHoYG0LGMOT_"
      },
      "execution_count": 8,
      "outputs": []
    },
    {
      "cell_type": "code",
      "source": [
        "piv = pi_v()\n",
        "circle_area_r2 = piv*(2**2)\n",
        "print(circle_area_r2)"
      ],
      "metadata": {
        "colab": {
          "base_uri": "https://localhost:8080/"
        },
        "id": "N4oX4xxSMSoM",
        "outputId": "8a8e461c-3cee-4e08-880f-6660e463ab5b"
      },
      "execution_count": 9,
      "outputs": [
        {
          "output_type": "stream",
          "name": "stdout",
          "text": [
            "12.56637061436\n"
          ]
        }
      ]
    },
    {
      "cell_type": "markdown",
      "source": [
        "**Function ไม่มี process ไม่ได้**"
      ],
      "metadata": {
        "id": "_Av3NpNoMYeu"
      }
    },
    {
      "cell_type": "code",
      "source": [
        "def function_a():"
      ],
      "metadata": {
        "colab": {
          "base_uri": "https://localhost:8080/",
          "height": 131
        },
        "id": "pqvNbnUiMXAp",
        "outputId": "6f2cb75a-4440-4a6e-f105-2db62b37e36d"
      },
      "execution_count": 10,
      "outputs": [
        {
          "output_type": "error",
          "ename": "SyntaxError",
          "evalue": "ignored",
          "traceback": [
            "\u001b[0;36m  File \u001b[0;32m\"<ipython-input-10-07a0750214a8>\"\u001b[0;36m, line \u001b[0;32m1\u001b[0m\n\u001b[0;31m    def function_a():\u001b[0m\n\u001b[0m                     ^\u001b[0m\n\u001b[0;31mSyntaxError\u001b[0m\u001b[0;31m:\u001b[0m unexpected EOF while parsing\n"
          ]
        }
      ]
    },
    {
      "cell_type": "markdown",
      "source": [
        "**ตัวอย่าง Function ที่ไม่มี output**"
      ],
      "metadata": {
        "id": "lRoWcoQZMdS9"
      }
    },
    {
      "cell_type": "code",
      "source": [
        "def print_name_id(name,id):\n",
        "    print(f'ชื่อ {name} รหัสประจำตัว {id}')"
      ],
      "metadata": {
        "id": "dBeyUxnjMeZ0"
      },
      "execution_count": 11,
      "outputs": []
    },
    {
      "cell_type": "code",
      "source": [
        "print_name_id('พรภูมินทร์','623021006-9')"
      ],
      "metadata": {
        "colab": {
          "base_uri": "https://localhost:8080/"
        },
        "id": "Mp3_pEYuMjCI",
        "outputId": "2e8f2c10-9b88-4cca-bcd5-7e737fcaad1e"
      },
      "execution_count": 12,
      "outputs": [
        {
          "output_type": "stream",
          "name": "stdout",
          "text": [
            "ชื่อ พรภูมินทร์ รหัสประจำตัว 623021006-9\n"
          ]
        }
      ]
    },
    {
      "cell_type": "code",
      "source": [
        "a = print_name_id('พรภูมินทร์','623021006-9')"
      ],
      "metadata": {
        "colab": {
          "base_uri": "https://localhost:8080/"
        },
        "id": "wQ7E6jq4MqVu",
        "outputId": "75600b8d-c6b8-4547-f7b0-8de60f64bcb5"
      },
      "execution_count": 13,
      "outputs": [
        {
          "output_type": "stream",
          "name": "stdout",
          "text": [
            "ชื่อ พรภูมินทร์ รหัสประจำตัว 623021006-9\n"
          ]
        }
      ]
    },
    {
      "cell_type": "markdown",
      "source": [
        "Looping (for)"
      ],
      "metadata": {
        "id": "IdB-KEI_D9-S"
      }
    },
    {
      "cell_type": "markdown",
      "source": [
        "###"
      ],
      "metadata": {
        "id": "Kdbj4AZQEIyb"
      }
    },
    {
      "cell_type": "code",
      "execution_count": null,
      "metadata": {
        "id": "O2d_ecVxDmEV"
      },
      "outputs": [],
      "source": [
        ""
      ]
    }
  ]
}